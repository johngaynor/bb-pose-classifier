{
 "cells": [
  {
   "cell_type": "code",
   "execution_count": null,
   "id": "955a715c",
   "metadata": {},
   "outputs": [
    {
     "name": "stdout",
     "output_type": "stream",
     "text": [
      "Predicted Pose: Front Lat Spread (Confidence: 27.15%)\n"
     ]
    }
   ],
   "source": [
    "import torch\n",
    "from torchvision import transforms\n",
    "from PIL import Image\n",
    "import torch.nn as nn\n",
    "from torchvision.models import resnet50, ResNet50_Weights\n",
    "from torchvision.datasets import ImageFolder\n",
    "import torch.nn.functional as F  \n",
    "\n",
    "dataset = ImageFolder(r\"C:\\Users\\jrgaynor\\Downloads\\checkin-photos\\training\")\n",
    "class_to_idx = dataset.class_to_idx\n",
    "\n",
    "pose_name_map = {\n",
    "    'pose_1': \"Front Relaxed\",\n",
    "    'pose_2': \"Back Relaxed\",\n",
    "    'pose_3': \"Quarter Turn (Left)\",\n",
    "    'pose_4': \"Quarter Turn (Right)\",\n",
    "    'pose_5': \"Back Double Biceps\",\n",
    "    'pose_6': \"Front Double Biceps\",\n",
    "    'pose_7': \"Front Lat Spread\",\n",
    "    'pose_8': \"Side Chest (Left)\",\n",
    "    'pose_11': \"Abs & Thighs\",\n",
    "}\n",
    "\n",
    "idx_to_class = {v: k for k, v in class_to_idx.items()}\n",
    "class_names = [idx_to_class[i] for i in range(len(idx_to_class))]\n",
    "\n",
    "# --- Config ---\n",
    "MODEL_PATH = \"pose_classifier.pth\"\n",
    "DEVICE = torch.device('cuda' if torch.cuda.is_available() else 'cpu')\n",
    "\n",
    "# Transform (same as validation transforms during training)\n",
    "transform = transforms.Compose([\n",
    "    transforms.Resize((224, 224)),\n",
    "    transforms.ToTensor(),\n",
    "    transforms.Normalize(mean=[0.485, 0.456, 0.406],\n",
    "                         std=[0.229, 0.224, 0.225]),\n",
    "])\n",
    "\n",
    "# Load model architecture & weights\n",
    "weights = ResNet50_Weights.DEFAULT\n",
    "model = resnet50(weights=weights)\n",
    "model.fc = nn.Linear(model.fc.in_features, len(class_names))\n",
    "model.load_state_dict(torch.load(MODEL_PATH, map_location=DEVICE))\n",
    "model.to(DEVICE)\n",
    "model.eval()\n",
    "\n",
    "def predict_pose(image_path):\n",
    "    image = Image.open(image_path).convert(\"RGB\")\n",
    "    input_tensor = transform(image).unsqueeze(0).to(DEVICE)\n",
    "\n",
    "    with torch.no_grad():\n",
    "        output = model(input_tensor)\n",
    "        probabilities = F.softmax(output, dim=1)  # Get probabilities from logits\n",
    "        predicted_idx = probabilities.argmax(dim=1).item()\n",
    "        confidence = probabilities[0, predicted_idx].item()\n",
    "\n",
    "        predicted_class = class_names[predicted_idx]\n",
    "        predicted_pose_name = pose_name_map.get(predicted_class, \"Unknown Pose\")\n",
    "\n",
    "    return predicted_pose_name, confidence\n",
    "\n",
    "# Example usage:\n",
    "pose, confidence = predict_pose(\"test_images/cbum.png\")\n",
    "print(f\"Predicted Pose: {pose} (Confidence: {confidence:.2%})\")"
   ]
  }
 ],
 "metadata": {
  "kernelspec": {
   "display_name": "Python 3",
   "language": "python",
   "name": "python3"
  },
  "language_info": {
   "codemirror_mode": {
    "name": "ipython",
    "version": 3
   },
   "file_extension": ".py",
   "mimetype": "text/x-python",
   "name": "python",
   "nbconvert_exporter": "python",
   "pygments_lexer": "ipython3",
   "version": "3.13.5"
  }
 },
 "nbformat": 4,
 "nbformat_minor": 5
}
