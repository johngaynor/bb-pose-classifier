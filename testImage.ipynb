{
 "cells": [
  {
   "cell_type": "code",
   "execution_count": null,
   "id": "318d2436",
   "metadata": {},
   "outputs": [],
   "source": [
    "# Check how the images are being transformed in the training code\n",
    "\n",
    "from PIL import Image\n",
    "import matplotlib.pyplot as plt\n",
    "from torchvision import transforms\n",
    "\n",
    "# Insert image path here to test\n",
    "image_path = r\"\"\n",
    "\n",
    "# Load original image\n",
    "original = Image.open(image_path).convert(\"RGB\")\n",
    "\n",
    "# Define transform (Resize to 224x224)\n",
    "resize_transform = transforms.Compose([\n",
    "    transforms.Resize((224, 224)),\n",
    "    transforms.ToTensor()\n",
    "])\n",
    "\n",
    "# Apply transform and convert back to image for viewing\n",
    "resized_tensor = resize_transform(original)\n",
    "resized_image = transforms.ToPILImage()(resized_tensor)\n",
    "\n",
    "# Show both images side-by-side\n",
    "plt.figure(figsize=(10, 5))\n",
    "plt.subplot(1, 2, 1)\n",
    "plt.imshow(original)\n",
    "plt.title(\"Original Image\")\n",
    "plt.axis(\"off\")\n",
    "\n",
    "plt.subplot(1, 2, 2)\n",
    "plt.imshow(resized_image)\n",
    "plt.title(\"Resized to 224x224\")\n",
    "plt.axis(\"off\")\n",
    "\n",
    "plt.tight_layout()\n",
    "plt.show()\n"
   ]
  }
 ],
 "metadata": {
  "kernelspec": {
   "display_name": "Python 3",
   "language": "python",
   "name": "python3"
  },
  "language_info": {
   "codemirror_mode": {
    "name": "ipython",
    "version": 3
   },
   "file_extension": ".py",
   "mimetype": "text/x-python",
   "name": "python",
   "nbconvert_exporter": "python",
   "pygments_lexer": "ipython3",
   "version": "3.13.5"
  }
 },
 "nbformat": 4,
 "nbformat_minor": 5
}
